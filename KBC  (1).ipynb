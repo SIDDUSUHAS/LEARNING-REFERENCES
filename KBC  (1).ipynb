{
 "cells": [
  {
   "cell_type": "code",
   "execution_count": 3,
   "metadata": {},
   "outputs": [],
   "source": [
    "questions=['who is the father of the nation',\n",
    "          'who wrote our constitution',\n",
    "          'who is the founder of tesla',\n",
    "          'which is the top ev in india',\n",
    "          'who is the founder of facebook']\n",
    "answers=['mahatma gandhi',\n",
    "        'ambedkar',\n",
    "        'elon musk',\n",
    "        'tata',\n",
    "        'mark zuckerberg']\n",
    "options=[['ambedkar','bhagath isngh','nathuram ghodse','mahatma gandhi'],\n",
    "        ['ambedkar','vallabhabhai patel','mahatma gandhi','jawaharlal nehru'],\n",
    "        ['tata','elon musk','tim cook','michael jordan'],\n",
    "         ['tata','ford','audi','honda'],\n",
    "         ['tim cook','sunder pichai','mark zuckerberg','jeff bezos']]\n"
   ]
  },
  {
   "cell_type": "code",
   "execution_count": 4,
   "metadata": {},
   "outputs": [],
   "source": [
    "def view_scores(score_list):\n",
    "    for us_name,points in score_list.items():\n",
    "        print(us_name,\"has scored\",points)"
   ]
  },
  {
   "cell_type": "code",
   "execution_count": 7,
   "metadata": {},
   "outputs": [],
   "source": [
    "def play_game(us_name,questions,answers,options):\n",
    "    print(\"HI\",us_name)\n",
    "    points=0\n",
    "    for i in range(len(questions)):\n",
    "        curr_question=questions[i]\n",
    "        curr_answer=answers[i]\n",
    "        curr_options=options[i]\n",
    "        print(\"QUESTION:NO\"1\n",
    "              ,i+1,curr_question)\n",
    "        for index,option in enumerate(curr_options):\n",
    "            print(index+1,')',option,sep='')\n",
    "        user_ans_in=int(input(\"ENTER YOUR ANSWER:\"))\n",
    "        user_ans=curr_options[user_ans_in -1]\n",
    "        if user_ans==curr_answer:\n",
    "            print(\"\\tCORRECT ANSWER\")\n",
    "            points+=100\n",
    "    \n",
    "        else:\n",
    "            print(\"\\tWRONG ANSWER\")\n",
    "            break\n",
    "    print(\"YOUR FINAL SCORE IS:\",points)\n",
    "    return us_name,points"
   ]
  },
  {
   "cell_type": "code",
   "execution_count": 9,
   "metadata": {},
   "outputs": [
    {
     "name": "stdout",
     "output_type": "stream",
     "text": [
      "WELCOME TO KBC!\n",
      "1)PLAY GAMES\n",
      "2)VIEW SCORES\n",
      "3)EXIT\n",
      "ENTER YOUR CHOICE:1\n",
      "PLEASE ENTER YOUR NAME:sidd\n",
      "HI sidd\n",
      "QUESTION:NO 1 who is the father of the nation\n",
      "1)ambedkar\n",
      "2)bhagath isngh\n",
      "3)nathuram ghodse\n",
      "4)mahatma gandhi\n",
      "ENTER YOUR ANSWER:4\n",
      "\tCORRECT ANSWER\n",
      "QUESTION:NO 2 who wrote our constitution\n",
      "1)ambedkar\n",
      "2)vallabhabhai patel\n",
      "3)mahatma gandhi\n",
      "4)jawaharlal nehru\n",
      "ENTER YOUR ANSWER:1\n",
      "\tCORRECT ANSWER\n",
      "QUESTION:NO 3 who is the founder of tesla\n",
      "1)tata\n",
      "2)elon musk\n",
      "3)tim cook\n",
      "4)michael jordan\n",
      "ENTER YOUR ANSWER:2\n",
      "\tCORRECT ANSWER\n",
      "QUESTION:NO 4 which is the top ev in india\n",
      "1)tata\n",
      "2)ford\n",
      "3)audi\n",
      "4)honda\n",
      "ENTER YOUR ANSWER:1\n",
      "\tCORRECT ANSWER\n",
      "QUESTION:NO 5 who is the founder of facebook\n",
      "1)tim cook\n",
      "2)sunder pichai\n",
      "3)mark zuckerberg\n",
      "4)jeff bezos\n",
      "ENTER YOUR ANSWER:3\n",
      "\tCORRECT ANSWER\n",
      "YOUR FINAL SCORE IS: 500\n",
      "**************************************************************************\n",
      "WELCOME TO KBC!\n",
      "1)PLAY GAMES\n",
      "2)VIEW SCORES\n",
      "3)EXIT\n",
      "ENTER YOUR CHOICE:2\n",
      "sidd has scored 500\n",
      "**************************************************************************\n",
      "WELCOME TO KBC!\n",
      "1)PLAY GAMES\n",
      "2)VIEW SCORES\n",
      "3)EXIT\n",
      "ENTER YOUR CHOICE:3\n"
     ]
    }
   ],
   "source": [
    "def KBC(questions,answers,options):\n",
    "    score_list={}\n",
    "    while(1):\n",
    "        print(\"WELCOME TO KBC!\")\n",
    "        print(\"1)PLAY GAMES\\n2)VIEW SCORES\\n3)EXIT\")\n",
    "        user_in=int(input(\"ENTER YOUR CHOICE:\"))\n",
    "        if user_in==1:\n",
    "            us_name=input(\"PLEASE ENTER YOUR NAME:\")         #whenever you return frm a function u need to capture the data using vars\n",
    "            us_name,points=play_game(us_name,questions,answers,options)\n",
    "            score_list[us_name]=points\n",
    "        elif user_in==2:\n",
    "            view_scores(score_list)\n",
    "            \n",
    "        elif user_in==3:\n",
    "            break\n",
    "        else:\n",
    "            print(\"ENTER VALID CHOICE:\")\n",
    "        print(\"**************************************************************************\")\n",
    "KBC(questions,answers,options)"
   ]
  },
  {
   "cell_type": "code",
   "execution_count": null,
   "metadata": {},
   "outputs": [],
   "source": []
  },
  {
   "cell_type": "code",
   "execution_count": null,
   "metadata": {},
   "outputs": [],
   "source": []
  }
 ],
 "metadata": {
  "kernelspec": {
   "display_name": "Python 3",
   "language": "python",
   "name": "python3"
  },
  "language_info": {
   "codemirror_mode": {
    "name": "ipython",
    "version": 3
   },
   "file_extension": ".py",
   "mimetype": "text/x-python",
   "name": "python",
   "nbconvert_exporter": "python",
   "pygments_lexer": "ipython3",
   "version": "3.8.3"
  }
 },
 "nbformat": 4,
 "nbformat_minor": 4
}
