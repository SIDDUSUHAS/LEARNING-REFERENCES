{
 "cells": [
  {
   "cell_type": "markdown",
   "metadata": {},
   "source": [
    "# ARRAYS"
   ]
  },
  {
   "cell_type": "code",
   "execution_count": 3,
   "metadata": {},
   "outputs": [
    {
     "name": "stdout",
     "output_type": "stream",
     "text": [
      "reversed array is\n",
      "[6, 5, 4, 3, 2, 1]\n"
     ]
    }
   ],
   "source": [
    "def reverse(A):                                  #ARRAY REVERSING\n",
    "    print(\"reversed array is\")                  \n",
    "    print(A[::-1])\n",
    "    return\n",
    "A=[1,2,3,4,5,6]\n",
    "reverse(A)"
   ]
  },
  {
   "cell_type": "code",
   "execution_count": 14,
   "metadata": {},
   "outputs": [
    {
     "name": "stdout",
     "output_type": "stream",
     "text": [
      "[1, 2, 3, 4, 5, 6]\n",
      "rev list\n",
      " [6, 5, 4, 3, 2, 1]\n"
     ]
    }
   ],
   "source": [
    "def reverselist(A,st,en):              #ARRAY REVERSING\n",
    "    if st>=en:\n",
    "        return\n",
    "    A[st],A[en]=A[en],A[st]\n",
    "    reverselist(A,st+1,en-1)\n",
    "    return\n",
    "A=[1,2,3,4,5,6]\n",
    "print(A)\n",
    "reverselist(A,0,len(A)-1)\n",
    "print(\"rev list\\n\",A)\n"
   ]
  },
  {
   "cell_type": "code",
   "execution_count": 17,
   "metadata": {},
   "outputs": [
    {
     "name": "stdout",
     "output_type": "stream",
     "text": [
      "[1, 2, 3, 4, 5, 6]\n",
      "rev list is:\n",
      " [6, 5, 4, 3, 2, 1]\n"
     ]
    }
   ],
   "source": [
    "def rev(A,st,en):              #ARRAY REVERSING\n",
    "    while(st<en):\n",
    "        A[st],A[en]=A[en],A[st]\n",
    "        st+=1\n",
    "        en-=1\n",
    "    return\n",
    "A=[1,2,3,4,5,6]\n",
    "print(A)\n",
    "rev(A,0,len(A)-1)\n",
    "print(\"rev list is:\\n\",A)\n"
   ]
  },
  {
   "cell_type": "markdown",
   "metadata": {},
   "source": [
    "FIND MAX AND MIN VAL IN ARRAY"
   ]
  },
  {
   "cell_type": "code",
   "execution_count": 32,
   "metadata": {},
   "outputs": [
    {
     "name": "stdout",
     "output_type": "stream",
     "text": [
      "[56, 32, 76, 88, 21, 11]\n",
      "88\n",
      "11\n"
     ]
    }
   ],
   "source": [
    "def maxnmin(A,a):\n",
    "    maximum=0\n",
    "    minimum=0\n",
    "    for i in range(a):\n",
    "        if A[i]<A[i-1]:\n",
    "            maximum=A[i-1]\n",
    "    print(maximum)\n",
    "    for i in range(a+1):\n",
    "        if A[i]<A[i-1]:\n",
    "            minimum=A[i]\n",
    "    print(minimum)\n",
    "    return\n",
    "A=[56,32,76,88,21,11]\n",
    "print(A)\n",
    "maxnmin(A,len(A)-1)\n",
    "\n",
    "    "
   ]
  },
  {
   "cell_type": "code",
   "execution_count": 4,
   "metadata": {},
   "outputs": [
    {
     "name": "stdout",
     "output_type": "stream",
     "text": [
      "eenter k6\n",
      "[9, 32, 44, 90, 112, 121, 444]\n",
      "121\n"
     ]
    },
    {
     "data": {
      "text/plain": [
       "121"
      ]
     },
     "execution_count": 4,
     "metadata": {},
     "output_type": "execute_result"
    }
   ],
   "source": [
    "def kthsmallest(A,a,k):\n",
    "    if k<a:\n",
    "        A.sort()\n",
    "        print(A)\n",
    "        print(A[k-1])\n",
    "    else:\n",
    "        print(\"enter proper k value\")\n",
    "        \n",
    "    return A[k-1]\n",
    "A=[121,444,32,112,44,90,9]\n",
    "a=len(A)\n",
    "k=int((input(\"eenter k\")))\n",
    "kthsmallest(A,a,k)"
   ]
  },
  {
   "cell_type": "code",
   "execution_count": 51,
   "metadata": {},
   "outputs": [
    {
     "name": "stdout",
     "output_type": "stream",
     "text": [
      "[4, 7, 10, 15, 20]\n",
      "20\n"
     ]
    }
   ],
   "source": [
    "def kthSmallest(arr, l, r, k):\n",
    "\n",
    "        r=len(arr)\n",
    "        if(k<r+1):\n",
    "            arr.sort()\n",
    "            print(arr)                #sorted array\n",
    "            pass\n",
    "        else:\n",
    "            print(\"invalid k\")\n",
    "        return\n",
    "arr=[7,10,4,20,15]\n",
    "r=len(arr)\n",
    "k=5\n",
    "kthSmallest(arr,0,r,k)\n",
    "print(arr[k-1])"
   ]
  },
  {
   "cell_type": "code",
   "execution_count": 56,
   "metadata": {},
   "outputs": [
    {
     "data": {
      "text/plain": [
       "[0, 0, 1, 1, 2, 2]"
      ]
     },
     "execution_count": 56,
     "metadata": {},
     "output_type": "execute_result"
    }
   ],
   "source": [
    "def sort012(arr,n):\n",
    "       # code here\n",
    "       x=0\n",
    "       y=0\n",
    "       z=0\n",
    "       for i in range(0,n):\n",
    "           if arr[i]==0:\n",
    "               x+=1\n",
    "           elif arr[i]==1:\n",
    "               y+=1\n",
    "           else:\n",
    "               z+=1\n",
    "       arr.clear()\n",
    "       for i in range(x):\n",
    "           arr.append(0)\n",
    "       for i in range(y):\n",
    "           arr.append(1)\n",
    "       for i in range(z):\n",
    "           arr.append(2)\n",
    "       return arr\n",
    "arr=[1,0,2,2,1,0]\n",
    "sort012(arr,len(arr))"
   ]
  },
  {
   "cell_type": "code",
   "execution_count": 60,
   "metadata": {},
   "outputs": [
    {
     "name": "stdout",
     "output_type": "stream",
     "text": [
      "[-1, -3, -7, 4, 5, 6, 2, 8, 9]\n"
     ]
    }
   ],
   "source": [
    "def rearrange(arr,a):\n",
    "    j=0\n",
    "    for i in range(0,a):\n",
    "        if(arr[i]<0):\n",
    "            arr[i],arr[j]=arr[j],arr[i]\n",
    "            j+=1\n",
    "    print(arr)\n",
    "    return\n",
    "arr = [-1, 2, -3, 4, 5, 6, -7, 8, 9]\n",
    "rearrange(arr,len(arr))"
   ]
  },
  {
   "cell_type": "code",
   "execution_count": 67,
   "metadata": {},
   "outputs": [],
   "source": [
    "def doUnion(self,a,n,b,m):\n",
    "        a=set(a)\n",
    "        b=set(b)\n",
    "        if (a.issubset(b))==True:\n",
    "            c=m\n",
    "        elif b.issubset(a)==True:\n",
    "            c=n\n",
    "        else:\n",
    "            if n>m:\n",
    "                c=len(a.union(b))\n",
    "            else:\n",
    "                c=len(b.union(a))\n",
    "        return c\n",
    "        "
   ]
  },
  {
   "cell_type": "code",
   "execution_count": 78,
   "metadata": {},
   "outputs": [
    {
     "data": {
      "text/plain": [
       "'Input:\\nN = 5\\nA[] = {1, 2, 3, 4, 5}\\nOutput:\\n5 1 2 3 4'"
      ]
     },
     "execution_count": 78,
     "metadata": {},
     "output_type": "execute_result"
    }
   ],
   "source": [
    "def rotate( arr, n):\n",
    "    a=arr.pop()\n",
    "    arr.insert(0,a)\n",
    "    return arr\n",
    "''' rotate the array by one position in clock-wise direction.\n",
    " '''\n",
    "'''Input:\n",
    "N = 5\n",
    "A[] = {1, 2, 3, 4, 5}\n",
    "Output:\n",
    "5 1 2 3 4'''"
   ]
  },
  {
   "cell_type": "code",
   "execution_count": 77,
   "metadata": {},
   "outputs": [
    {
     "data": {
      "text/plain": [
       "'N = 4\\nArr[] = {-1,-2,-3,-4}\\nOutput:\\n-1\\nExplanation:\\nMax subarray sum is -1 \\nof element (-1)'"
      ]
     },
     "execution_count": 77,
     "metadata": {},
     "output_type": "execute_result"
    }
   ],
   "source": [
    "def maxSubArraySum(self,arr,N):\n",
    "        c=0\n",
    "        mx=arr[0]\n",
    "        ##Your code here\n",
    "        for i in arr:\n",
    "            c+=i\n",
    "            if c>mx:\n",
    "                mx=c\n",
    "            if c<0:\n",
    "                c=0\n",
    "        return mx\n",
    "''' Find the contiguous sub-array(containing at least one number) which has the maximum sum and return its sum.'''\n",
    "'''Input:\n",
    "N = 5\n",
    "Arr[] = {1,2,3,-2,5}\n",
    "Output:\n",
    "9\n",
    "Explanation:\n",
    "Max subarray sum is 9\n",
    "of elements (1, 2, 3, -2, 5) which \n",
    "is  contiguous subarray.'''\n",
    "'''N = 4\n",
    "Arr[] = {-1,-2,-3,-4}\n",
    "Output:\n",
    "-1\n",
    "Explanation:\n",
    "Max subarray sum is -1 \n",
    "of element (-1)'''"
   ]
  },
  {
   "cell_type": "code",
   "execution_count": 88,
   "metadata": {},
   "outputs": [
    {
     "name": "stdout",
     "output_type": "stream",
     "text": [
      "[1, 3, 5, 7, 0, 2, 6, 8, 9]\n",
      "[0, 1, 2, 3, 5, 6, 7, 8, 9]\n",
      "[0, 1, 2, 3]\n",
      "[5, 6, 7, 8, 9]\n"
     ]
    }
   ],
   "source": [
    "def merge(arr1, arr2, n, m): \n",
    "        # code here\n",
    "        arr3=list(arr1)\n",
    "        arr3.extend(arr2)\n",
    "        print(arr3)\n",
    "        arr3.sort()\n",
    "        print(arr3)\n",
    "        arr1=arr3[:n]\n",
    "        arr2=arr3[n:]\n",
    "        print(arr1)\n",
    "        print(arr2)\n",
    "        return\n",
    "n = 4 \n",
    "m = 5\n",
    "arr1 = [1, 3, 5, 7]\n",
    "arr2 = [0, 2, 6, 8, 9]\n",
    "merge(arr1,arr2,n,m)"
   ]
  },
  {
   "cell_type": "code",
   "execution_count": null,
   "metadata": {},
   "outputs": [],
   "source": []
  }
 ],
 "metadata": {
  "kernelspec": {
   "display_name": "Python 3",
   "language": "python",
   "name": "python3"
  },
  "language_info": {
   "codemirror_mode": {
    "name": "ipython",
    "version": 3
   },
   "file_extension": ".py",
   "mimetype": "text/x-python",
   "name": "python",
   "nbconvert_exporter": "python",
   "pygments_lexer": "ipython3",
   "version": "3.8.3"
  }
 },
 "nbformat": 4,
 "nbformat_minor": 4
}
