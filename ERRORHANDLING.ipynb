{
 "cells": [
  {
   "cell_type": "markdown",
   "metadata": {},
   "source": [
    "ERRORS"
   ]
  },
  {
   "cell_type": "code",
   "execution_count": 2,
   "metadata": {},
   "outputs": [
    {
     "ename": "ValueError",
     "evalue": "invalid literal for int() with base 10: '5a'",
     "output_type": "error",
     "traceback": [
      "\u001b[1;31m---------------------------------------------------------------------------\u001b[0m",
      "\u001b[1;31mValueError\u001b[0m                                Traceback (most recent call last)",
      "\u001b[1;32md:\\PROGRAMMING\\LEARNING-REFERENCES\\ERRORHANDLING.ipynb Cell 1'\u001b[0m in \u001b[0;36m<cell line: 1>\u001b[1;34m()\u001b[0m\n\u001b[1;32m----> <a href='vscode-notebook-cell:/d%3A/PROGRAMMING/LEARNING-REFERENCES/ERRORHANDLING.ipynb#ch0000000?line=0'>1</a>\u001b[0m n\u001b[39m=\u001b[39m\u001b[39mint\u001b[39;49m(\u001b[39minput\u001b[39;49m(\u001b[39m\"\u001b[39;49m\u001b[39menter a number\u001b[39;49m\u001b[39m\"\u001b[39;49m))\n\u001b[0;32m      <a href='vscode-notebook-cell:/d%3A/PROGRAMMING/LEARNING-REFERENCES/ERRORHANDLING.ipynb#ch0000000?line=1'>2</a>\u001b[0m \u001b[39mprint\u001b[39m(n)\n",
      "\u001b[1;31mValueError\u001b[0m: invalid literal for int() with base 10: '5a'"
     ]
    }
   ],
   "source": [
    "n=int(input(\"enter a number\"))\n",
    "print(n)\n",
    "#value error as char given"
   ]
  },
  {
   "cell_type": "code",
   "execution_count": 5,
   "metadata": {},
   "outputs": [
    {
     "ename": "IndexError",
     "evalue": "list index out of range",
     "output_type": "error",
     "traceback": [
      "\u001b[1;31m---------------------------------------------------------------------------\u001b[0m",
      "\u001b[1;31mIndexError\u001b[0m                                Traceback (most recent call last)",
      "\u001b[1;32md:\\PROGRAMMING\\LEARNING-REFERENCES\\ERRORHANDLING.ipynb Cell 2'\u001b[0m in \u001b[0;36m<cell line: 2>\u001b[1;34m()\u001b[0m\n\u001b[0;32m      <a href='vscode-notebook-cell:/d%3A/PROGRAMMING/LEARNING-REFERENCES/ERRORHANDLING.ipynb#ch0000001?line=0'>1</a>\u001b[0m l\u001b[39m=\u001b[39m[\u001b[39m'\u001b[39m\u001b[39m1\u001b[39m\u001b[39m'\u001b[39m,\u001b[39m2\u001b[39m,\u001b[39m3\u001b[39m,\u001b[39m'\u001b[39m\u001b[39mhe\u001b[39m\u001b[39m'\u001b[39m]\n\u001b[1;32m----> <a href='vscode-notebook-cell:/d%3A/PROGRAMMING/LEARNING-REFERENCES/ERRORHANDLING.ipynb#ch0000001?line=1'>2</a>\u001b[0m \u001b[39mprint\u001b[39m(l[\u001b[39m10\u001b[39;49m])\n",
      "\u001b[1;31mIndexError\u001b[0m: list index out of range"
     ]
    }
   ],
   "source": [
    "l=['1',2,3,'he']\n",
    "print(l[10])\n",
    "#indexerror"
   ]
  },
  {
   "cell_type": "code",
   "execution_count": 8,
   "metadata": {},
   "outputs": [
    {
     "ename": "ZeroDivisionError",
     "evalue": "division by zero",
     "output_type": "error",
     "traceback": [
      "\u001b[1;31m---------------------------------------------------------------------------\u001b[0m",
      "\u001b[1;31mZeroDivisionError\u001b[0m                         Traceback (most recent call last)",
      "\u001b[1;32md:\\PROGRAMMING\\LEARNING-REFERENCES\\ERRORHANDLING.ipynb Cell 3'\u001b[0m in \u001b[0;36m<cell line: 1>\u001b[1;34m()\u001b[0m\n\u001b[1;32m----> <a href='vscode-notebook-cell:/d%3A/PROGRAMMING/LEARNING-REFERENCES/ERRORHANDLING.ipynb#ch0000002?line=0'>1</a>\u001b[0m \u001b[39mprint\u001b[39m(\u001b[39m1\u001b[39;49m\u001b[39m/\u001b[39;49m\u001b[39m0\u001b[39;49m)\n",
      "\u001b[1;31mZeroDivisionError\u001b[0m: division by zero"
     ]
    }
   ],
   "source": [
    "print(1/0)\n",
    "#zerodivisionerror"
   ]
  },
  {
   "cell_type": "markdown",
   "metadata": {},
   "source": [
    "ERROR HANDLING"
   ]
  },
  {
   "cell_type": "code",
   "execution_count": null,
   "metadata": {},
   "outputs": [],
   "source": [
    "#error handling is important cz if an error occurs in the given code say nth line. it will throw an error and the lines that follow wont get executed"
   ]
  },
  {
   "cell_type": "code",
   "execution_count": 9,
   "metadata": {},
   "outputs": [
    {
     "data": {
      "text/plain": [
       "'\\ntry:\\n    statements\\nexcept:\\n    ERROR MESSAGE\\n#the control comes to except only when there is an error in stmts\\n'"
      ]
     },
     "execution_count": 9,
     "metadata": {},
     "output_type": "execute_result"
    }
   ],
   "source": [
    "#TRY  & Except method\n",
    "\"\"\"\n",
    "try:\n",
    "    statements\n",
    "except:\n",
    "    ERROR MESSAGE\n",
    "#the control comes to except only when there is an error in stmts\n",
    "\"\"\""
   ]
  },
  {
   "cell_type": "markdown",
   "metadata": {},
   "source": [
    "ERRORR HANDLING 1"
   ]
  },
  {
   "cell_type": "code",
   "execution_count": 12,
   "metadata": {},
   "outputs": [
    {
     "ename": "ZeroDivisionError",
     "evalue": "division by zero",
     "output_type": "error",
     "traceback": [
      "\u001b[1;31m---------------------------------------------------------------------------\u001b[0m",
      "\u001b[1;31mZeroDivisionError\u001b[0m                         Traceback (most recent call last)",
      "\u001b[1;32md:\\PROGRAMMING\\LEARNING-REFERENCES\\ERRORHANDLING.ipynb Cell 8'\u001b[0m in \u001b[0;36m<cell line: 3>\u001b[1;34m()\u001b[0m\n\u001b[0;32m      <a href='vscode-notebook-cell:/d%3A/PROGRAMMING/LEARNING-REFERENCES/ERRORHANDLING.ipynb#ch0000007?line=0'>1</a>\u001b[0m a\u001b[39m=\u001b[39m\u001b[39m10\u001b[39m\n\u001b[0;32m      <a href='vscode-notebook-cell:/d%3A/PROGRAMMING/LEARNING-REFERENCES/ERRORHANDLING.ipynb#ch0000007?line=1'>2</a>\u001b[0m b\u001b[39m=\u001b[39m\u001b[39m0\u001b[39m\n\u001b[1;32m----> <a href='vscode-notebook-cell:/d%3A/PROGRAMMING/LEARNING-REFERENCES/ERRORHANDLING.ipynb#ch0000007?line=2'>3</a>\u001b[0m \u001b[39mprint\u001b[39m(\u001b[39m\"\u001b[39m\u001b[39mthe op is:\u001b[39m\u001b[39m\"\u001b[39m,a\u001b[39m/\u001b[39;49mb)\n\u001b[0;32m      <a href='vscode-notebook-cell:/d%3A/PROGRAMMING/LEARNING-REFERENCES/ERRORHANDLING.ipynb#ch0000007?line=3'>4</a>\u001b[0m \u001b[39mprint\u001b[39m(\u001b[39m'\u001b[39m\u001b[39mhello\u001b[39m\u001b[39m'\u001b[39m)\n",
      "\u001b[1;31mZeroDivisionError\u001b[0m: division by zero"
     ]
    }
   ],
   "source": [
    "a=10\n",
    "b=0\n",
    "print(\"the op is:\",a/b)\n",
    "print('hello') #the line is not getting executed"
   ]
  },
  {
   "cell_type": "code",
   "execution_count": 14,
   "metadata": {},
   "outputs": [
    {
     "name": "stdout",
     "output_type": "stream",
     "text": [
      "cannot divide by zero\n"
     ]
    }
   ],
   "source": [
    "a=10\n",
    "b=0\n",
    "try:\n",
    "    print(\"the op is:\",a/b)\n",
    "except:\n",
    "    print(\"cannot divide by zero\")\n",
    "    "
   ]
  },
  {
   "cell_type": "markdown",
   "metadata": {},
   "source": [
    "ERROR HANDLING 2 (with multiple excepts)"
   ]
  },
  {
   "cell_type": "code",
   "execution_count": 20,
   "metadata": {},
   "outputs": [
    {
     "name": "stdout",
     "output_type": "stream",
     "text": [
      "zero div error \n"
     ]
    }
   ],
   "source": [
    "l=[1,2,34,\"hello\",0]\n",
    "p=int(input(\"enter the number\"))\n",
    "try:\n",
    "    print(\"op is: \",100/l[p])\n",
    "except TypeError:                   #specifying the typoe of error\n",
    "                                    #multiple excepts can be used in order  to avoid errors\n",
    "    print(\"error\")\n",
    "except IndexError:\n",
    "    print(\"index error occured\")\n",
    "except ZeroDivisionError:\n",
    "    print(\"zero div error \")\n",
    "except ValueError:\n",
    "    print(\"val error\")\n"
   ]
  },
  {
   "cell_type": "code",
   "execution_count": 29,
   "metadata": {},
   "outputs": [
    {
     "ename": "ValueError",
     "evalue": "invalid literal for int() with base 10: 'abc'",
     "output_type": "error",
     "traceback": [
      "\u001b[1;31m---------------------------------------------------------------------------\u001b[0m",
      "\u001b[1;31mValueError\u001b[0m                                Traceback (most recent call last)",
      "\u001b[1;32md:\\PROGRAMMING\\LEARNING-REFERENCES\\ERRORHANDLING.ipynb Cell 13'\u001b[0m in \u001b[0;36m<cell line: 2>\u001b[1;34m()\u001b[0m\n\u001b[0;32m      <a href='vscode-notebook-cell:/d%3A/PROGRAMMING/LEARNING-REFERENCES/ERRORHANDLING.ipynb#ch0000013?line=0'>1</a>\u001b[0m l\u001b[39m=\u001b[39m[\u001b[39m1\u001b[39m,\u001b[39m2\u001b[39m,\u001b[39m34\u001b[39m,\u001b[39m\"\u001b[39m\u001b[39mhello\u001b[39m\u001b[39m\"\u001b[39m,\u001b[39m0\u001b[39m]\n\u001b[1;32m----> <a href='vscode-notebook-cell:/d%3A/PROGRAMMING/LEARNING-REFERENCES/ERRORHANDLING.ipynb#ch0000013?line=1'>2</a>\u001b[0m p\u001b[39m=\u001b[39m\u001b[39mint\u001b[39;49m(\u001b[39minput\u001b[39;49m(\u001b[39m\"\u001b[39;49m\u001b[39menter the number\u001b[39;49m\u001b[39m\"\u001b[39;49m))\n\u001b[0;32m      <a href='vscode-notebook-cell:/d%3A/PROGRAMMING/LEARNING-REFERENCES/ERRORHANDLING.ipynb#ch0000013?line=2'>3</a>\u001b[0m \u001b[39mtry\u001b[39;00m:\n\u001b[0;32m      <a href='vscode-notebook-cell:/d%3A/PROGRAMMING/LEARNING-REFERENCES/ERRORHANDLING.ipynb#ch0000013?line=3'>4</a>\u001b[0m     \u001b[39mprint\u001b[39m(\u001b[39m\"\u001b[39m\u001b[39mop is: \u001b[39m\u001b[39m\"\u001b[39m,\u001b[39m100\u001b[39m\u001b[39m/\u001b[39ml[p])\n",
      "\u001b[1;31mValueError\u001b[0m: invalid literal for int() with base 10: 'abc'"
     ]
    }
   ],
   "source": [
    "l=[1,2,34,\"hello\",0]\n",
    "p=int(input(\"enter the number\"))\n",
    "try:\n",
    "    print(\"op is: \",100/l[p])\n",
    "except TypeError:                   \n",
    "    print(\"error\")\n",
    "except IndexError:\n",
    "    print(\"index error occured\")\n",
    "except ZeroDivisionError:\n",
    "    print(\"zero div error \")\n",
    "except ValueError:\n",
    "    print(\"val error\")\n",
    "#error not handled as the stmt not inside try block"
   ]
  },
  {
   "cell_type": "code",
   "execution_count": 22,
   "metadata": {},
   "outputs": [
    {
     "name": "stdout",
     "output_type": "stream",
     "text": [
      "val error\n"
     ]
    }
   ],
   "source": [
    "l=[1,2,34,\"hello\",0]\n",
    "\n",
    "try:\n",
    "    p=int(input(\"enter the number\"))\n",
    "    print(\"op is: \",100/l[p])\n",
    "except TypeError:                  \n",
    "    print(\"error\")\n",
    "except IndexError:\n",
    "    print(\"index error occured\")\n",
    "except ZeroDivisionError:\n",
    "    print(\"zero div error \")\n",
    "except ValueError:\n",
    "    print(\"val error\")\n"
   ]
  },
  {
   "cell_type": "code",
   "execution_count": 23,
   "metadata": {},
   "outputs": [
    {
     "name": "stdout",
     "output_type": "stream",
     "text": [
      "index error occured\n"
     ]
    }
   ],
   "source": [
    "l=[1,2,34,\"hello\",0]\n",
    "\n",
    "try:\n",
    "    p=int(input(\"enter the number\"))\n",
    "    print(\"op is: \",100/l[p])\n",
    "except TypeError:                   \n",
    "    print(\"error\")\n",
    "except IndexError:\n",
    "    print(\"index error occured\")\n",
    "except ZeroDivisionError:\n",
    "    print(\"zero div error \")\n",
    "except ValueError:\n",
    "    print(\"val error\")\n"
   ]
  },
  {
   "cell_type": "code",
   "execution_count": 25,
   "metadata": {},
   "outputs": [
    {
     "name": "stdout",
     "output_type": "stream",
     "text": [
      " type error\n"
     ]
    }
   ],
   "source": [
    "l=[1,2,34,\"hello\",0]\n",
    "\n",
    "try:\n",
    "    p=int(input(\"enter the number\"))\n",
    "    print(\"op is: \",100/l[p])\n",
    "except TypeError:                   \n",
    "    print(\" type error\")\n",
    "except IndexError:\n",
    "    print(\"index error occured\")\n",
    "except ZeroDivisionError:\n",
    "    print(\"zero div error \")\n",
    "except ValueError:\n",
    "    print(\"val error\")\n"
   ]
  },
  {
   "cell_type": "markdown",
   "metadata": {},
   "source": [
    "FINALLY\n"
   ]
  },
  {
   "cell_type": "code",
   "execution_count": 31,
   "metadata": {},
   "outputs": [],
   "source": [
    "#no matter what the statemnts in  the finally block gets executed even tho the error isnt handled and will get executed fir sure\n",
    "#the code will throw an error after the execution of finally"
   ]
  },
  {
   "cell_type": "code",
   "execution_count": 27,
   "metadata": {},
   "outputs": [
    {
     "name": "stdout",
     "output_type": "stream",
     "text": [
      "from finally block\n"
     ]
    },
    {
     "ename": "ZeroDivisionError",
     "evalue": "division by zero",
     "output_type": "error",
     "traceback": [
      "\u001b[1;31m---------------------------------------------------------------------------\u001b[0m",
      "\u001b[1;31mZeroDivisionError\u001b[0m                         Traceback (most recent call last)",
      "\u001b[1;32md:\\PROGRAMMING\\LEARNING-REFERENCES\\ERRORHANDLING.ipynb Cell 19'\u001b[0m in \u001b[0;36m<cell line: 3>\u001b[1;34m()\u001b[0m\n\u001b[0;32m      <a href='vscode-notebook-cell:/d%3A/PROGRAMMING/LEARNING-REFERENCES/ERRORHANDLING.ipynb#ch0000019?line=2'>3</a>\u001b[0m \u001b[39mtry\u001b[39;00m:\n\u001b[0;32m      <a href='vscode-notebook-cell:/d%3A/PROGRAMMING/LEARNING-REFERENCES/ERRORHANDLING.ipynb#ch0000019?line=3'>4</a>\u001b[0m     p\u001b[39m=\u001b[39m\u001b[39mint\u001b[39m(\u001b[39minput\u001b[39m(\u001b[39m\"\u001b[39m\u001b[39menter the number\u001b[39m\u001b[39m\"\u001b[39m))\n\u001b[1;32m----> <a href='vscode-notebook-cell:/d%3A/PROGRAMMING/LEARNING-REFERENCES/ERRORHANDLING.ipynb#ch0000019?line=4'>5</a>\u001b[0m     \u001b[39mprint\u001b[39m(\u001b[39m\"\u001b[39m\u001b[39mop is: \u001b[39m\u001b[39m\"\u001b[39m,\u001b[39m100\u001b[39;49m\u001b[39m/\u001b[39;49ml[p])\n\u001b[0;32m      <a href='vscode-notebook-cell:/d%3A/PROGRAMMING/LEARNING-REFERENCES/ERRORHANDLING.ipynb#ch0000019?line=5'>6</a>\u001b[0m \u001b[39mexcept\u001b[39;00m \u001b[39mTypeError\u001b[39;00m:                   \u001b[39m#specifying the typoe of error\u001b[39;00m\n\u001b[0;32m      <a href='vscode-notebook-cell:/d%3A/PROGRAMMING/LEARNING-REFERENCES/ERRORHANDLING.ipynb#ch0000019?line=6'>7</a>\u001b[0m                                     \u001b[39m#multiple excepts can be used in order  to avoid errors\u001b[39;00m\n\u001b[0;32m      <a href='vscode-notebook-cell:/d%3A/PROGRAMMING/LEARNING-REFERENCES/ERRORHANDLING.ipynb#ch0000019?line=7'>8</a>\u001b[0m     \u001b[39mprint\u001b[39m(\u001b[39m\"\u001b[39m\u001b[39merror\u001b[39m\u001b[39m\"\u001b[39m)\n",
      "\u001b[1;31mZeroDivisionError\u001b[0m: division by zero"
     ]
    }
   ],
   "source": [
    "l=[1,2,34,\"hello\",0]\n",
    "\n",
    "try:\n",
    "    p=int(input(\"enter the number\"))\n",
    "    print(\"op is: \",100/l[p])\n",
    "except TypeError:                   \n",
    "    print(\"error\")\n",
    "except IndexError:\n",
    "    print(\"index error occured\")\n",
    "except ValueError:\n",
    "    print(\"val error\")\n",
    "finally:\n",
    "    print(\"from finally block\")  # here Zeroo div error isnt handled even tho the finally block gets executed and the error comes later\n"
   ]
  },
  {
   "cell_type": "code",
   "execution_count": 30,
   "metadata": {},
   "outputs": [
    {
     "name": "stdout",
     "output_type": "stream",
     "text": [
      "val error\n",
      "from finally block\n"
     ]
    }
   ],
   "source": [
    "l=[1,2,34,\"hello\",0]\n",
    "\n",
    "try:\n",
    "    p=int(input(\"enter the number\"))\n",
    "    print(\"op is: \",100/l[p])\n",
    "except TypeError:                   \n",
    "    print(\"error\")\n",
    "except IndexError:\n",
    "    print(\"index error occured\")\n",
    "except ValueError:\n",
    "    print(\"val error\")\n",
    "finally:\n",
    "    print(\"from finally block\")"
   ]
  },
  {
   "cell_type": "code",
   "execution_count": null,
   "metadata": {},
   "outputs": [],
   "source": []
  }
 ],
 "metadata": {
  "interpreter": {
   "hash": "30587a460563cf0413e289fe577f4c8445f25d407d0a2b1ac86e24e5c74e60d5"
  },
  "kernelspec": {
   "display_name": "Python 3.10.4 64-bit",
   "language": "python",
   "name": "python3"
  },
  "language_info": {
   "codemirror_mode": {
    "name": "ipython",
    "version": 3
   },
   "file_extension": ".py",
   "mimetype": "text/x-python",
   "name": "python",
   "nbconvert_exporter": "python",
   "pygments_lexer": "ipython3",
   "version": "3.10.4"
  },
  "orig_nbformat": 4
 },
 "nbformat": 4,
 "nbformat_minor": 2
}
