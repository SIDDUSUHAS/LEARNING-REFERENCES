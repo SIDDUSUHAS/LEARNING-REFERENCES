{
 "cells": [
  {
   "cell_type": "code",
   "execution_count": 14,
   "metadata": {},
   "outputs": [
    {
     "data": {
      "text/plain": [
       "'or use\\nfrom openpyxl import load_workbook'"
      ]
     },
     "execution_count": 14,
     "metadata": {},
     "output_type": "execute_result"
    }
   ],
   "source": [
    "#import openpyxl and later use openpyxl.load_workbook\n",
    "\"\"\"or use\n",
    "from openpyxl import load_workbook\"\"\"\n"
   ]
  },
  {
   "cell_type": "markdown",
   "metadata": {},
   "source": [
    "READING FROM A EXCEL FILE"
   ]
  },
  {
   "cell_type": "code",
   "execution_count": 15,
   "metadata": {},
   "outputs": [
    {
     "data": {
      "text/plain": [
       "\"\\nvar1=load_workbook('file name') #accept only .xslx type\\nvar2=var1['Sheet_number']\\nvar2.cell(row,column).value\\n#for columns also you have to enter number lke A=1,B=2.......\\n\""
      ]
     },
     "execution_count": 15,
     "metadata": {},
     "output_type": "execute_result"
    }
   ],
   "source": [
    "\"\"\"\n",
    "var1=load_workbook('file name') #accept only .xslx type\n",
    "var2=var1['Sheet_number']\n",
    "var2.cell(row,column).value\n",
    "#for columns also you have to enter number lke A=1,B=2.......\n",
    "\"\"\""
   ]
  },
  {
   "cell_type": "code",
   "execution_count": 16,
   "metadata": {},
   "outputs": [
    {
     "name": "stdout",
     "output_type": "stream",
     "text": [
      "100\n",
      "55\n",
      "58\n",
      "hai\n",
      "siddu\n"
     ]
    }
   ],
   "source": [
    "from openpyxl import load_workbook\n",
    "workbook=load_workbook('excelop.xlsx')\n",
    "worksheet=workbook['Sheet1']\n",
    "print(worksheet.cell(1,1).value)\n",
    "print(worksheet.cell(3,1).value)\n",
    "print(worksheet.cell(2,1).value)\n",
    "print(worksheet.cell(3,4).value)\n",
    "print(worksheet.cell(4,3).value)"
   ]
  },
  {
   "cell_type": "markdown",
   "metadata": {},
   "source": [
    "WRITING TO AN EXCEL FILE"
   ]
  },
  {
   "cell_type": "code",
   "execution_count": 25,
   "metadata": {},
   "outputs": [],
   "source": [
    "worksheet.cell(10,10,\"OPENPYXl\") #while writing you have to pass 3 parameters including the value to be written in the space\n",
    "workbook.save('excelop.xlsx')   #the file has to be saved in order to update the changes\n",
    "#in .save() if you pass old file name only it will overwrite the existing one and the sheet shldnt be open in any windows"
   ]
  },
  {
   "cell_type": "code",
   "execution_count": 26,
   "metadata": {},
   "outputs": [],
   "source": [
    "#if in workbook.save()if you use a new file name a new cloned file will be creaated\n",
    "worksheet.cell(6,11,\"OPENPYXl\") #while writing you have to pass 3 parameters including the value to be written in the space\n",
    "workbook.save('excelop1.xlsx')\n"
   ]
  },
  {
   "cell_type": "code",
   "execution_count": 31,
   "metadata": {},
   "outputs": [
    {
     "name": "stdout",
     "output_type": "stream",
     "text": [
      "None\n"
     ]
    }
   ],
   "source": [
    "#reading the values written using codes\n",
    "wb=load_workbook('excelop.xlsx')\n",
    "ws=wb['Sheet1']\n",
    "print(ws.cell(6,11).value)"
   ]
  },
  {
   "cell_type": "code",
   "execution_count": 32,
   "metadata": {},
   "outputs": [
    {
     "name": "stdout",
     "output_type": "stream",
     "text": [
      "OPENPYXl\n"
     ]
    }
   ],
   "source": [
    "wb=load_workbook('excelop1.xlsx')\n",
    "ws=wb['Sheet1']\n",
    "print(ws.cell(6,11).value)"
   ]
  },
  {
   "cell_type": "code",
   "execution_count": null,
   "metadata": {},
   "outputs": [],
   "source": []
  }
 ],
 "metadata": {
  "interpreter": {
   "hash": "30587a460563cf0413e289fe577f4c8445f25d407d0a2b1ac86e24e5c74e60d5"
  },
  "kernelspec": {
   "display_name": "Python 3.10.4 64-bit",
   "language": "python",
   "name": "python3"
  },
  "language_info": {
   "codemirror_mode": {
    "name": "ipython",
    "version": 3
   },
   "file_extension": ".py",
   "mimetype": "text/x-python",
   "name": "python",
   "nbconvert_exporter": "python",
   "pygments_lexer": "ipython3",
   "version": "3.10.4"
  },
  "orig_nbformat": 4
 },
 "nbformat": 4,
 "nbformat_minor": 2
}
