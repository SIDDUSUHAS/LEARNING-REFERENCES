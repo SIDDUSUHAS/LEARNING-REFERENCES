{
 "cells": [
  {
   "cell_type": "code",
   "execution_count": 1,
   "metadata": {},
   "outputs": [],
   "source": [
    "#when we have to print a variable with a message: use PRINT(\"MESSAGE:\",VARIABLE)"
   ]
  },
  {
   "cell_type": "code",
   "execution_count": 2,
   "metadata": {},
   "outputs": [
    {
     "name": "stdout",
     "output_type": "stream",
     "text": [
      "['banana', 'kiwi', 'mango', 'orange', 'pineapple']\n"
     ]
    }
   ],
   "source": [
    "thislist = [\"orange\", \"mango\", \"kiwi\", \"pineapple\", \"banana\"]\n",
    "thislist.sort()\n",
    "print(thislist)"
   ]
  },
  {
   "cell_type": "code",
   "execution_count": 3,
   "metadata": {},
   "outputs": [
    {
     "name": "stdout",
     "output_type": "stream",
     "text": [
      "['banana', 'kiwi', 'mango']\n"
     ]
    }
   ],
   "source": [
    "print(thislist[:3])"
   ]
  },
  {
   "cell_type": "code",
   "execution_count": 4,
   "metadata": {},
   "outputs": [],
   "source": [
    "t1=tuple(thislist)"
   ]
  },
  {
   "cell_type": "code",
   "execution_count": 5,
   "metadata": {},
   "outputs": [
    {
     "name": "stdout",
     "output_type": "stream",
     "text": [
      "('banana', 'kiwi', 'mango', 'orange', 'pineapple')\n"
     ]
    }
   ],
   "source": [
    "print(t1)"
   ]
  },
  {
   "cell_type": "code",
   "execution_count": 6,
   "metadata": {},
   "outputs": [
    {
     "data": {
      "text/plain": [
       "1"
      ]
     },
     "execution_count": 6,
     "metadata": {},
     "output_type": "execute_result"
    }
   ],
   "source": [
    "t1.count(\"banana\")"
   ]
  },
  {
   "cell_type": "code",
   "execution_count": 8,
   "metadata": {},
   "outputs": [
    {
     "name": "stdout",
     "output_type": "stream",
     "text": [
      "('banana', 'kiwi', 'mango', 'orange', 'pineapple', 'banana', 'kiwi', 'mango', 'orange', 'pineapple')\n"
     ]
    },
    {
     "data": {
      "text/plain": [
       "2"
      ]
     },
     "execution_count": 8,
     "metadata": {},
     "output_type": "execute_result"
    }
   ],
   "source": [
    "t2=t1*2\n",
    "print(t2)\n",
    "t2.count(\"banana\")"
   ]
  },
  {
   "cell_type": "code",
   "execution_count": 13,
   "metadata": {},
   "outputs": [
    {
     "data": {
      "text/plain": [
       "2"
      ]
     },
     "execution_count": 13,
     "metadata": {},
     "output_type": "execute_result"
    }
   ],
   "source": [
    "t2.index(\"mango\")"
   ]
  },
  {
   "cell_type": "code",
   "execution_count": 14,
   "metadata": {},
   "outputs": [
    {
     "name": "stdout",
     "output_type": "stream",
     "text": [
      "23456647910"
     ]
    }
   ],
   "source": [
    "a=[[2,3,4,5,6],\n",
    "   [6,4,7,9,10],\n",
    "   [21,24,35,9,8]]\n",
    "r=len(a)\n",
    "c=len(a[0])\n",
    "m=0\n",
    "n=0\n",
    "for i in range(n,c):\n",
    "    print(a[m][i],end=\"\")\n",
    "m+=1\n",
    "for i in range(m,c):\n",
    "    print(a[m][i],end=\"\")\n",
    "m+=1\n",
    "for i in range(n,c):\n",
    "    print()"
   ]
  },
  {
   "cell_type": "code",
   "execution_count": 2,
   "metadata": {},
   "outputs": [
    {
     "data": {
      "text/plain": [
       "'nohtyp no gniniart tnemecalp'"
      ]
     },
     "execution_count": 2,
     "metadata": {},
     "output_type": "execute_result"
    }
   ],
   "source": [
    "str=\"placement training on python\"\n",
    "\n",
    "str[::-1]"
   ]
  },
  {
   "cell_type": "code",
   "execution_count": 5,
   "metadata": {},
   "outputs": [
    {
     "data": {
      "text/plain": [
       "' gniniart'"
      ]
     },
     "execution_count": 5,
     "metadata": {},
     "output_type": "execute_result"
    }
   ],
   "source": [
    "str[18:9:-1]"
   ]
  },
  {
   "cell_type": "code",
   "execution_count": 19,
   "metadata": {},
   "outputs": [
    {
     "name": "stdout",
     "output_type": "stream",
     "text": [
      "placement training in python\n",
      "28\n",
      "8 17\n"
     ]
    }
   ],
   "source": [
    "str=\"PLACEMENT TRAINING IN PYTHON\"\n",
    "\n",
    "str=str.lower()\n",
    "print(str)\n",
    "print(len(str))\n",
    "vo=('a','e','i','o','u')\n",
    "v=0\n",
    "c=0\n",
    "for i in str:\n",
    "    if i in vo:\n",
    "        v+=1\n",
    "    elif i==' ':\n",
    "        pass\n",
    "    else:    \n",
    "        c+=1\n",
    "print(v,c)"
   ]
  },
  {
   "cell_type": "code",
   "execution_count": 21,
   "metadata": {},
   "outputs": [
    {
     "name": "stdout",
     "output_type": "stream",
     "text": [
      "stringpython\n",
      "['p', 'y', 't', 'h', 'o', 'n']\n"
     ]
    }
   ],
   "source": [
    "#STRING TO LIST\n",
    "str=input(\"string\")\n",
    "l=[]\n",
    "for i in str:\n",
    "    l.append(i)\n",
    "print(l)"
   ]
  },
  {
   "cell_type": "code",
   "execution_count": 22,
   "metadata": {},
   "outputs": [
    {
     "name": "stdout",
     "output_type": "stream",
     "text": [
      "python\n"
     ]
    }
   ],
   "source": [
    "st=\"\"\n",
    "for i in l:\n",
    "    st+=i\n",
    "print(st)"
   ]
  },
  {
   "cell_type": "code",
   "execution_count": 31,
   "metadata": {},
   "outputs": [],
   "source": [
    "import pandas as pd\n"
   ]
  },
  {
   "cell_type": "code",
   "execution_count": 33,
   "metadata": {},
   "outputs": [],
   "source": [
    "df=pd.read_csv('covidvaccine.csv')"
   ]
  },
  {
   "cell_type": "code",
   "execution_count": 40,
   "metadata": {},
   "outputs": [],
   "source": [
    "dfx=df.set_index(['vaccine',\"country\"])"
   ]
  },
  {
   "cell_type": "code",
   "execution_count": 41,
   "metadata": {},
   "outputs": [
    {
     "data": {
      "text/html": [
       "<div>\n",
       "<style scoped>\n",
       "    .dataframe tbody tr th:only-of-type {\n",
       "        vertical-align: middle;\n",
       "    }\n",
       "\n",
       "    .dataframe tbody tr th {\n",
       "        vertical-align: top;\n",
       "    }\n",
       "\n",
       "    .dataframe thead th {\n",
       "        text-align: right;\n",
       "    }\n",
       "</style>\n",
       "<table border=\"1\" class=\"dataframe\">\n",
       "  <thead>\n",
       "    <tr style=\"text-align: right;\">\n",
       "      <th></th>\n",
       "      <th>vaccine</th>\n",
       "      <th>type</th>\n",
       "      <th>shots</th>\n",
       "      <th>dose gap</th>\n",
       "      <th>efficacy</th>\n",
       "      <th>country</th>\n",
       "      <th>Arrived in india</th>\n",
       "      <th>travel restrictions</th>\n",
       "    </tr>\n",
       "  </thead>\n",
       "  <tbody>\n",
       "    <tr>\n",
       "      <th>0</th>\n",
       "      <td>pfizer</td>\n",
       "      <td>mRNA</td>\n",
       "      <td>2</td>\n",
       "      <td>21</td>\n",
       "      <td>94</td>\n",
       "      <td>US</td>\n",
       "      <td>not available</td>\n",
       "      <td>all countries</td>\n",
       "    </tr>\n",
       "    <tr>\n",
       "      <th>1</th>\n",
       "      <td>moderna</td>\n",
       "      <td>mRNA</td>\n",
       "      <td>2</td>\n",
       "      <td>28</td>\n",
       "      <td>94</td>\n",
       "      <td>us</td>\n",
       "      <td>not available</td>\n",
       "      <td>all countries</td>\n",
       "    </tr>\n",
       "    <tr>\n",
       "      <th>2</th>\n",
       "      <td>johnson</td>\n",
       "      <td>Viral vector</td>\n",
       "      <td>1</td>\n",
       "      <td>0</td>\n",
       "      <td>85</td>\n",
       "      <td>us</td>\n",
       "      <td>not available</td>\n",
       "      <td>all countries</td>\n",
       "    </tr>\n",
       "    <tr>\n",
       "      <th>3</th>\n",
       "      <td>covishield</td>\n",
       "      <td>Viral vector</td>\n",
       "      <td>2</td>\n",
       "      <td>84</td>\n",
       "      <td>90</td>\n",
       "      <td>india</td>\n",
       "      <td>Available</td>\n",
       "      <td>130 countries</td>\n",
       "    </tr>\n",
       "    <tr>\n",
       "      <th>4</th>\n",
       "      <td>sputnik</td>\n",
       "      <td>Viral vector</td>\n",
       "      <td>2</td>\n",
       "      <td>28</td>\n",
       "      <td>90</td>\n",
       "      <td>russia</td>\n",
       "      <td>Available</td>\n",
       "      <td>all countries</td>\n",
       "    </tr>\n",
       "    <tr>\n",
       "      <th>5</th>\n",
       "      <td>sinovac</td>\n",
       "      <td>inactivated virus</td>\n",
       "      <td>2</td>\n",
       "      <td>28</td>\n",
       "      <td>75</td>\n",
       "      <td>china</td>\n",
       "      <td>not available</td>\n",
       "      <td>china</td>\n",
       "    </tr>\n",
       "    <tr>\n",
       "      <th>6</th>\n",
       "      <td>novavax</td>\n",
       "      <td>protein based</td>\n",
       "      <td>2</td>\n",
       "      <td>28</td>\n",
       "      <td>90</td>\n",
       "      <td>us</td>\n",
       "      <td>not available</td>\n",
       "      <td>all countries</td>\n",
       "    </tr>\n",
       "    <tr>\n",
       "      <th>7</th>\n",
       "      <td>covaxin</td>\n",
       "      <td>inactivated virus</td>\n",
       "      <td>2</td>\n",
       "      <td>28</td>\n",
       "      <td>80</td>\n",
       "      <td>india</td>\n",
       "      <td>Available</td>\n",
       "      <td>9 countries</td>\n",
       "    </tr>\n",
       "  </tbody>\n",
       "</table>\n",
       "</div>"
      ],
      "text/plain": [
       "      vaccine               type  shots  dose gap  efficacy country  \\\n",
       "0      pfizer               mRNA      2        21        94      US   \n",
       "1     moderna               mRNA      2        28        94      us   \n",
       "2     johnson       Viral vector      1         0        85      us   \n",
       "3  covishield       Viral vector      2        84        90   india   \n",
       "4     sputnik       Viral vector      2        28        90  russia   \n",
       "5     sinovac  inactivated virus      2        28        75   china   \n",
       "6     novavax      protein based      2        28        90      us   \n",
       "7     covaxin  inactivated virus      2        28        80   india   \n",
       "\n",
       "  Arrived in india travel restrictions  \n",
       "0    not available       all countries  \n",
       "1    not available       all countries  \n",
       "2    not available       all countries  \n",
       "3        Available       130 countries  \n",
       "4        Available       all countries  \n",
       "5    not available               china  \n",
       "6    not available       all countries  \n",
       "7        Available         9 countries  "
      ]
     },
     "execution_count": 41,
     "metadata": {},
     "output_type": "execute_result"
    }
   ],
   "source": [
    "df"
   ]
  },
  {
   "cell_type": "code",
   "execution_count": 43,
   "metadata": {},
   "outputs": [
    {
     "data": {
      "text/html": [
       "<div>\n",
       "<style scoped>\n",
       "    .dataframe tbody tr th:only-of-type {\n",
       "        vertical-align: middle;\n",
       "    }\n",
       "\n",
       "    .dataframe tbody tr th {\n",
       "        vertical-align: top;\n",
       "    }\n",
       "\n",
       "    .dataframe thead th {\n",
       "        text-align: right;\n",
       "    }\n",
       "</style>\n",
       "<table border=\"1\" class=\"dataframe\">\n",
       "  <thead>\n",
       "    <tr style=\"text-align: right;\">\n",
       "      <th></th>\n",
       "      <th>vaccine</th>\n",
       "      <th>country</th>\n",
       "    </tr>\n",
       "  </thead>\n",
       "  <tbody>\n",
       "    <tr>\n",
       "      <th>0</th>\n",
       "      <td>pfizer</td>\n",
       "      <td>US</td>\n",
       "    </tr>\n",
       "    <tr>\n",
       "      <th>1</th>\n",
       "      <td>moderna</td>\n",
       "      <td>us</td>\n",
       "    </tr>\n",
       "    <tr>\n",
       "      <th>2</th>\n",
       "      <td>johnson</td>\n",
       "      <td>us</td>\n",
       "    </tr>\n",
       "    <tr>\n",
       "      <th>3</th>\n",
       "      <td>covishield</td>\n",
       "      <td>india</td>\n",
       "    </tr>\n",
       "    <tr>\n",
       "      <th>4</th>\n",
       "      <td>sputnik</td>\n",
       "      <td>russia</td>\n",
       "    </tr>\n",
       "  </tbody>\n",
       "</table>\n",
       "</div>"
      ],
      "text/plain": [
       "      vaccine country\n",
       "0      pfizer      US\n",
       "1     moderna      us\n",
       "2     johnson      us\n",
       "3  covishield   india\n",
       "4     sputnik  russia"
      ]
     },
     "execution_count": 43,
     "metadata": {},
     "output_type": "execute_result"
    }
   ],
   "source": [
    "df[0:5][[\"vaccine\",\"country\"]]"
   ]
  },
  {
   "cell_type": "code",
   "execution_count": 47,
   "metadata": {},
   "outputs": [
    {
     "data": {
      "text/html": [
       "<div>\n",
       "<style scoped>\n",
       "    .dataframe tbody tr th:only-of-type {\n",
       "        vertical-align: middle;\n",
       "    }\n",
       "\n",
       "    .dataframe tbody tr th {\n",
       "        vertical-align: top;\n",
       "    }\n",
       "\n",
       "    .dataframe thead th {\n",
       "        text-align: right;\n",
       "    }\n",
       "</style>\n",
       "<table border=\"1\" class=\"dataframe\">\n",
       "  <thead>\n",
       "    <tr style=\"text-align: right;\">\n",
       "      <th></th>\n",
       "      <th>vaccine</th>\n",
       "      <th>type</th>\n",
       "      <th>shots</th>\n",
       "      <th>dose gap</th>\n",
       "      <th>efficacy</th>\n",
       "      <th>country</th>\n",
       "      <th>Arrived in india</th>\n",
       "      <th>travel restrictions</th>\n",
       "    </tr>\n",
       "  </thead>\n",
       "  <tbody>\n",
       "    <tr>\n",
       "      <th>2</th>\n",
       "      <td>johnson</td>\n",
       "      <td>Viral vector</td>\n",
       "      <td>1</td>\n",
       "      <td>0</td>\n",
       "      <td>85</td>\n",
       "      <td>us</td>\n",
       "      <td>not available</td>\n",
       "      <td>all countries</td>\n",
       "    </tr>\n",
       "    <tr>\n",
       "      <th>0</th>\n",
       "      <td>pfizer</td>\n",
       "      <td>mRNA</td>\n",
       "      <td>2</td>\n",
       "      <td>21</td>\n",
       "      <td>94</td>\n",
       "      <td>US</td>\n",
       "      <td>not available</td>\n",
       "      <td>all countries</td>\n",
       "    </tr>\n",
       "    <tr>\n",
       "      <th>1</th>\n",
       "      <td>moderna</td>\n",
       "      <td>mRNA</td>\n",
       "      <td>2</td>\n",
       "      <td>28</td>\n",
       "      <td>94</td>\n",
       "      <td>us</td>\n",
       "      <td>not available</td>\n",
       "      <td>all countries</td>\n",
       "    </tr>\n",
       "    <tr>\n",
       "      <th>3</th>\n",
       "      <td>covishield</td>\n",
       "      <td>Viral vector</td>\n",
       "      <td>2</td>\n",
       "      <td>84</td>\n",
       "      <td>90</td>\n",
       "      <td>india</td>\n",
       "      <td>Available</td>\n",
       "      <td>130 countries</td>\n",
       "    </tr>\n",
       "    <tr>\n",
       "      <th>4</th>\n",
       "      <td>sputnik</td>\n",
       "      <td>Viral vector</td>\n",
       "      <td>2</td>\n",
       "      <td>28</td>\n",
       "      <td>90</td>\n",
       "      <td>russia</td>\n",
       "      <td>Available</td>\n",
       "      <td>all countries</td>\n",
       "    </tr>\n",
       "    <tr>\n",
       "      <th>5</th>\n",
       "      <td>sinovac</td>\n",
       "      <td>inactivated virus</td>\n",
       "      <td>2</td>\n",
       "      <td>28</td>\n",
       "      <td>75</td>\n",
       "      <td>china</td>\n",
       "      <td>not available</td>\n",
       "      <td>china</td>\n",
       "    </tr>\n",
       "    <tr>\n",
       "      <th>6</th>\n",
       "      <td>novavax</td>\n",
       "      <td>protein based</td>\n",
       "      <td>2</td>\n",
       "      <td>28</td>\n",
       "      <td>90</td>\n",
       "      <td>us</td>\n",
       "      <td>not available</td>\n",
       "      <td>all countries</td>\n",
       "    </tr>\n",
       "    <tr>\n",
       "      <th>7</th>\n",
       "      <td>covaxin</td>\n",
       "      <td>inactivated virus</td>\n",
       "      <td>2</td>\n",
       "      <td>28</td>\n",
       "      <td>80</td>\n",
       "      <td>india</td>\n",
       "      <td>Available</td>\n",
       "      <td>9 countries</td>\n",
       "    </tr>\n",
       "  </tbody>\n",
       "</table>\n",
       "</div>"
      ],
      "text/plain": [
       "      vaccine               type  shots  dose gap  efficacy country  \\\n",
       "2     johnson       Viral vector      1         0        85      us   \n",
       "0      pfizer               mRNA      2        21        94      US   \n",
       "1     moderna               mRNA      2        28        94      us   \n",
       "3  covishield       Viral vector      2        84        90   india   \n",
       "4     sputnik       Viral vector      2        28        90  russia   \n",
       "5     sinovac  inactivated virus      2        28        75   china   \n",
       "6     novavax      protein based      2        28        90      us   \n",
       "7     covaxin  inactivated virus      2        28        80   india   \n",
       "\n",
       "  Arrived in india travel restrictions  \n",
       "2    not available       all countries  \n",
       "0    not available       all countries  \n",
       "1    not available       all countries  \n",
       "3        Available       130 countries  \n",
       "4        Available       all countries  \n",
       "5    not available               china  \n",
       "6    not available       all countries  \n",
       "7        Available         9 countries  "
      ]
     },
     "execution_count": 47,
     "metadata": {},
     "output_type": "execute_result"
    }
   ],
   "source": [
    "df.sort_values(\"shots\",ascending=True)"
   ]
  },
  {
   "cell_type": "code",
   "execution_count": 49,
   "metadata": {},
   "outputs": [
    {
     "data": {
      "text/html": [
       "<div>\n",
       "<style scoped>\n",
       "    .dataframe tbody tr th:only-of-type {\n",
       "        vertical-align: middle;\n",
       "    }\n",
       "\n",
       "    .dataframe tbody tr th {\n",
       "        vertical-align: top;\n",
       "    }\n",
       "\n",
       "    .dataframe thead th {\n",
       "        text-align: right;\n",
       "    }\n",
       "</style>\n",
       "<table border=\"1\" class=\"dataframe\">\n",
       "  <thead>\n",
       "    <tr style=\"text-align: right;\">\n",
       "      <th></th>\n",
       "      <th>vaccine</th>\n",
       "      <th>type</th>\n",
       "      <th>shots</th>\n",
       "      <th>dose gap</th>\n",
       "      <th>efficacy</th>\n",
       "      <th>country</th>\n",
       "      <th>Arrived in india</th>\n",
       "      <th>travel restrictions</th>\n",
       "    </tr>\n",
       "  </thead>\n",
       "  <tbody>\n",
       "    <tr>\n",
       "      <th>2</th>\n",
       "      <td>johnson</td>\n",
       "      <td>Viral vector</td>\n",
       "      <td>1</td>\n",
       "      <td>0</td>\n",
       "      <td>85</td>\n",
       "      <td>us</td>\n",
       "      <td>not available</td>\n",
       "      <td>all countries</td>\n",
       "    </tr>\n",
       "    <tr>\n",
       "      <th>0</th>\n",
       "      <td>pfizer</td>\n",
       "      <td>mRNA</td>\n",
       "      <td>2</td>\n",
       "      <td>21</td>\n",
       "      <td>94</td>\n",
       "      <td>US</td>\n",
       "      <td>not available</td>\n",
       "      <td>all countries</td>\n",
       "    </tr>\n",
       "    <tr>\n",
       "      <th>1</th>\n",
       "      <td>moderna</td>\n",
       "      <td>mRNA</td>\n",
       "      <td>2</td>\n",
       "      <td>28</td>\n",
       "      <td>94</td>\n",
       "      <td>us</td>\n",
       "      <td>not available</td>\n",
       "      <td>all countries</td>\n",
       "    </tr>\n",
       "    <tr>\n",
       "      <th>4</th>\n",
       "      <td>sputnik</td>\n",
       "      <td>Viral vector</td>\n",
       "      <td>2</td>\n",
       "      <td>28</td>\n",
       "      <td>90</td>\n",
       "      <td>russia</td>\n",
       "      <td>Available</td>\n",
       "      <td>all countries</td>\n",
       "    </tr>\n",
       "    <tr>\n",
       "      <th>5</th>\n",
       "      <td>sinovac</td>\n",
       "      <td>inactivated virus</td>\n",
       "      <td>2</td>\n",
       "      <td>28</td>\n",
       "      <td>75</td>\n",
       "      <td>china</td>\n",
       "      <td>not available</td>\n",
       "      <td>china</td>\n",
       "    </tr>\n",
       "    <tr>\n",
       "      <th>6</th>\n",
       "      <td>novavax</td>\n",
       "      <td>protein based</td>\n",
       "      <td>2</td>\n",
       "      <td>28</td>\n",
       "      <td>90</td>\n",
       "      <td>us</td>\n",
       "      <td>not available</td>\n",
       "      <td>all countries</td>\n",
       "    </tr>\n",
       "    <tr>\n",
       "      <th>7</th>\n",
       "      <td>covaxin</td>\n",
       "      <td>inactivated virus</td>\n",
       "      <td>2</td>\n",
       "      <td>28</td>\n",
       "      <td>80</td>\n",
       "      <td>india</td>\n",
       "      <td>Available</td>\n",
       "      <td>9 countries</td>\n",
       "    </tr>\n",
       "    <tr>\n",
       "      <th>3</th>\n",
       "      <td>covishield</td>\n",
       "      <td>Viral vector</td>\n",
       "      <td>2</td>\n",
       "      <td>84</td>\n",
       "      <td>90</td>\n",
       "      <td>india</td>\n",
       "      <td>Available</td>\n",
       "      <td>130 countries</td>\n",
       "    </tr>\n",
       "  </tbody>\n",
       "</table>\n",
       "</div>"
      ],
      "text/plain": [
       "      vaccine               type  shots  dose gap  efficacy country  \\\n",
       "2     johnson       Viral vector      1         0        85      us   \n",
       "0      pfizer               mRNA      2        21        94      US   \n",
       "1     moderna               mRNA      2        28        94      us   \n",
       "4     sputnik       Viral vector      2        28        90  russia   \n",
       "5     sinovac  inactivated virus      2        28        75   china   \n",
       "6     novavax      protein based      2        28        90      us   \n",
       "7     covaxin  inactivated virus      2        28        80   india   \n",
       "3  covishield       Viral vector      2        84        90   india   \n",
       "\n",
       "  Arrived in india travel restrictions  \n",
       "2    not available       all countries  \n",
       "0    not available       all countries  \n",
       "1    not available       all countries  \n",
       "4        Available       all countries  \n",
       "5    not available               china  \n",
       "6    not available       all countries  \n",
       "7        Available         9 countries  \n",
       "3        Available       130 countries  "
      ]
     },
     "execution_count": 49,
     "metadata": {},
     "output_type": "execute_result"
    }
   ],
   "source": [
    "df.sort_values(\"dose gap\",ascending=True)"
   ]
  },
  {
   "cell_type": "code",
   "execution_count": 1,
   "metadata": {},
   "outputs": [
    {
     "name": "stdout",
     "output_type": "stream",
     "text": [
      "Collecting camelcase\n",
      "  Using cached camelcase-0.2.tar.gz (1.3 kB)\n",
      "Building wheels for collected packages: camelcase\n",
      "  Building wheel for camelcase (setup.py): started\n",
      "  Building wheel for camelcase (setup.py): finished with status 'done'\n",
      "  Created wheel for camelcase: filename=camelcase-0.2-py3-none-any.whl size=1794 sha256=a602e5cb564f19e3a83f05d00ed15fcfe3301fb0915c675396469dcf11a256dd\n",
      "  Stored in directory: c:\\users\\panjulatha\\appdata\\local\\pip\\cache\\wheels\\20\\1a\\a6\\5651fe658d5ffd7fcf610723557f7b20a52a71d7e8e1849cb6\n",
      "Successfully built camelcase\n",
      "Installing collected packages: camelcase\n",
      "Successfully installed camelcase-0.2\n",
      "Note: you may need to restart the kernel to use updated packages.\n"
     ]
    }
   ],
   "source": [
    "pip install camelcase"
   ]
  },
  {
   "cell_type": "code",
   "execution_count": 1,
   "metadata": {},
   "outputs": [],
   "source": [
    "import camelcase"
   ]
  },
  {
   "cell_type": "code",
   "execution_count": 7,
   "metadata": {},
   "outputs": [],
   "source": [
    "c=camelcase.CamelCase(txt)\n",
    "txt=\"hello everyone\""
   ]
  },
  {
   "cell_type": "code",
   "execution_count": 8,
   "metadata": {},
   "outputs": [
    {
     "name": "stdout",
     "output_type": "stream",
     "text": [
      "hello everyone\n"
     ]
    }
   ],
   "source": [
    "print(txt)"
   ]
  },
  {
   "cell_type": "code",
   "execution_count": 9,
   "metadata": {},
   "outputs": [
    {
     "name": "stdout",
     "output_type": "stream",
     "text": [
      "<camelcase.main.CamelCase object at 0x0000019332849D60>\n"
     ]
    }
   ],
   "source": [
    "c=camelcase.CamelCase(txt)\n",
    "print(c)"
   ]
  },
  {
   "cell_type": "code",
   "execution_count": 10,
   "metadata": {},
   "outputs": [
    {
     "data": {
      "text/plain": [
       "'Hello Everyone'"
      ]
     },
     "execution_count": 10,
     "metadata": {},
     "output_type": "execute_result"
    }
   ],
   "source": [
    "c.hump(txt)"
   ]
  },
  {
   "cell_type": "code",
   "execution_count": 1,
   "metadata": {},
   "outputs": [],
   "source": [
    "import matplotlib\n"
   ]
  },
  {
   "cell_type": "code",
   "execution_count": 2,
   "metadata": {},
   "outputs": [
    {
     "name": "stdout",
     "output_type": "stream",
     "text": [
      "3.2.2\n"
     ]
    }
   ],
   "source": [
    "print(matplotlib.__version__)"
   ]
  },
  {
   "cell_type": "code",
   "execution_count": 15,
   "metadata": {},
   "outputs": [
    {
     "data": {
      "image/png": "[encoded data removed]",
      "text/plain": [
       "<Figure size 432x288 with 1 Axes>"
      ]
     },
     "metadata": {
      "needs_background": "light"
     },
     "output_type": "display_data"
    }
   ],
   "source": [
    "import matplotlib.pyplot as p\n",
    "import numpy as n\n",
    "\n",
    "xpoints = n.array([0,2,4, 6])\n",
    "ypoints = n.array([0,50,400,600 ])\n",
    "\n",
    "p.plot(xpoints)\n",
    "p.show()"
   ]
  },
  {
   "cell_type": "code",
   "execution_count": 2,
   "metadata": {},
   "outputs": [
    {
     "ename": "SyntaxError",
     "evalue": "invalid syntax (<ipython-input-2-5e7c0aa75fdf>, line 3)",
     "output_type": "error",
     "traceback": [
      "\u001b[1;36m  File \u001b[1;32m\"<ipython-input-2-5e7c0aa75fdf>\"\u001b[1;36m, line \u001b[1;32m3\u001b[0m\n\u001b[1;33m    print(\"{a} is even\"f)\u001b[0m\n\u001b[1;37m                       ^\u001b[0m\n\u001b[1;31mSyntaxError\u001b[0m\u001b[1;31m:\u001b[0m invalid syntax\n"
     ]
    }
   ],
   "source": [
    "a = int(input(\"Enter a number :\"))\n",
    "if a%2==0:\n",
    "  print(\"{a} is even\"f)\n",
    "if a%2!=0:\n",
    "  print(\"{a} is odd\"f)"
   ]
  },
  {
   "cell_type": "code",
   "execution_count": 5,
   "metadata": {},
   "outputs": [
    {
     "name": "stdout",
     "output_type": "stream",
     "text": [
      "(1, 2, 3, 32234, 555) <class 'tuple'>\n",
      "(6, 234, 3556, 456456) <class 'tuple'>\n"
     ]
    }
   ],
   "source": [
    "t1=(1,2,3,32234,555)\n",
    "print(t1,type(t1))\n",
    "t2=(6,234,3556,456456)\n",
    "print(t2,type(t2))"
   ]
  },
  {
   "cell_type": "code",
   "execution_count": 7,
   "metadata": {},
   "outputs": [
    {
     "name": "stdout",
     "output_type": "stream",
     "text": [
      "(1, 2, 3, 32234, 555, 1, 2, 3, 32234, 555)\n"
     ]
    }
   ],
   "source": [
    "keys = ['person1','person2','person3']\n",
    "values = ['python','c++','js']t2=t1*2\n",
    "print(t2)"
   ]
  },
  {
   "cell_type": "code",
   "execution_count": 9,
   "metadata": {},
   "outputs": [
    {
     "name": "stdout",
     "output_type": "stream",
     "text": [
      "{'person1': 'python', 'person2': 'c++', 'person3': 'js'} <class 'dict'>\n"
     ]
    }
   ],
   "source": [
    "keys = ['person1','person2','person3']\n",
    "values = ['python','c++','js']\n",
    "d1=dict(zip(keys,values))\n",
    "print(d1,type(d1))"
   ]
  },
  {
   "cell_type": "code",
   "execution_count": 10,
   "metadata": {},
   "outputs": [
    {
     "name": "stdout",
     "output_type": "stream",
     "text": [
      "1\n",
      "2\n",
      "3\n",
      "4\n",
      "5\n",
      "6\n",
      "7\n",
      "8\n",
      "9\n",
      "10\n",
      "11\n"
     ]
    }
   ],
   "source": [
    "i=0\n",
    "while(i<=10):\n",
    "    i+=1\n",
    "    print(i)\n",
    "    "
   ]
  },
  {
   "cell_type": "code",
   "execution_count": 11,
   "metadata": {},
   "outputs": [
    {
     "name": "stdout",
     "output_type": "stream",
     "text": [
      "0\n",
      "1\n",
      "2\n",
      "3\n",
      "4\n",
      "5\n",
      "6\n",
      "7\n",
      "8\n",
      "9\n",
      "10\n"
     ]
    }
   ],
   "source": [
    "i=0\n",
    "while(i<=10):\n",
    "   \n",
    "    print(i)\n",
    "    i+=1"
   ]
  },
  {
   "cell_type": "markdown",
   "metadata": {},
   "source": [
    "TABLES"
   ]
  },
  {
   "cell_type": "code",
   "execution_count": 22,
   "metadata": {},
   "outputs": [
    {
     "name": "stdout",
     "output_type": "stream",
     "text": [
      "enter the number for tables:\n",
      "55\n",
      "55x1=55\n",
      "55x2=110\n",
      "55x3=165\n",
      "55x4=220\n",
      "55x5=275\n",
      "55x6=330\n",
      "55x7=385\n",
      "55x8=440\n",
      "55x9=495\n",
      "55x10=550\n"
     ]
    }
   ],
   "source": [
    "n=int(input(\"enter the number for tables:\\n\"))\n",
    "i=1\n",
    "while i<=10:\n",
    "    print(f\"{n}x{i}={n*i}\")\n",
    "    i+=1\n",
    "    "
   ]
  },
  {
   "cell_type": "code",
   "execution_count": 25,
   "metadata": {},
   "outputs": [
    {
     "name": "stdout",
     "output_type": "stream",
     "text": [
      "0\n",
      "1\n",
      "2\n",
      "3\n",
      "*\n",
      "0\n",
      "1\n",
      "2\n",
      "3\n"
     ]
    }
   ],
   "source": [
    "for i in range(0,4):\n",
    "    print(i)\n",
    "print(\"*\")\n",
    "j=0\n",
    "for j in range(4):\n",
    "    print(j)"
   ]
  },
  {
   "cell_type": "code",
   "execution_count": null,
   "metadata": {},
   "outputs": [],
   "source": []
  }
 ],
 "metadata": {
  "kernelspec": {
   "display_name": "Python 3",
   "language": "python",
   "name": "python3"
  },
  "language_info": {
   "codemirror_mode": {
    "name": "ipython",
    "version": 3
   },
   "file_extension": ".py",
   "mimetype": "text/x-python",
   "name": "python",
   "nbconvert_exporter": "python",
   "pygments_lexer": "ipython3",
   "version": "3.8.3"
  }
 },
 "nbformat": 4,
 "nbformat_minor": 4
}
