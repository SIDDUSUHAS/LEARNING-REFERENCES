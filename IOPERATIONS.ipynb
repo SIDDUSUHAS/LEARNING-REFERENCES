{
 "cells": [
  {
   "cell_type": "code",
   "execution_count": 1,
   "metadata": {},
   "outputs": [
    {
     "name": "stdout",
     "output_type": "stream",
     "text": [
      "helop\n"
     ]
    }
   ],
   "source": [
    "print(\"helop\")"
   ]
  },
  {
   "cell_type": "code",
   "execution_count": 3,
   "metadata": {},
   "outputs": [
    {
     "name": "stdout",
     "output_type": "stream",
     "text": [
      "<_io.TextIOWrapper name='check.txt' mode='r' encoding='cp1252'>\n"
     ]
    }
   ],
   "source": [
    "h=open('check.txt')\n",
    "print(h)                    #mode r means reading mode. \n",
    "#and when you print the var assigned to the text file it doesnt display the text instead it displays the type of file"
   ]
  },
  {
   "cell_type": "markdown",
   "metadata": {},
   "source": [
    "READ"
   ]
  },
  {
   "cell_type": "code",
   "execution_count": 6,
   "metadata": {},
   "outputs": [
    {
     "name": "stdout",
     "output_type": "stream",
     "text": [
      "hello everyone\n",
      "this is a text file\n",
      "\n"
     ]
    }
   ],
   "source": [
    "h=open('check.txt')\n",
    "output=h.read()             #this is how you read a text file (reading the whole text file)\n",
    "print(output)           \n"
   ]
  },
  {
   "cell_type": "code",
   "execution_count": 16,
   "metadata": {},
   "outputs": [
    {
     "name": "stdout",
     "output_type": "stream",
     "text": [
      "hello everyone\n",
      "\n",
      "<class 'str'>\n"
     ]
    }
   ],
   "source": [
    "h=open('check.txt')\n",
    "output1=h.readline()        #to read single line until /n encountered\n",
    "print(output1)\n",
    "print(type(output1))"
   ]
  },
  {
   "cell_type": "code",
   "execution_count": 13,
   "metadata": {},
   "outputs": [
    {
     "name": "stdout",
     "output_type": "stream",
     "text": [
      "hello everyone\n",
      "\n",
      "this is a text file\n",
      "\n",
      "<class 'str'>\n"
     ]
    }
   ],
   "source": [
    "h=open('check.txt')\n",
    "output1=h.readline()  \n",
    "print(output1)\n",
    "output1=h.readline()             #you need to use the readline() command n no of times to read n lines seperatedly\n",
    "print(output1)\n",
    "print(type(output1))"
   ]
  },
  {
   "cell_type": "code",
   "execution_count": 15,
   "metadata": {},
   "outputs": [
    {
     "name": "stdout",
     "output_type": "stream",
     "text": [
      "['hello everyone\\n', 'this is a text file\\n']\n",
      "<class 'list'>\n"
     ]
    }
   ],
   "source": [
    "h=open('check.txt')\n",
    "output2=h.readlines()        #to read all the lines as a list\n",
    "print(output2)\n",
    "print(type(output2))"
   ]
  },
  {
   "cell_type": "code",
   "execution_count": 57,
   "metadata": {},
   "outputs": [
    {
     "name": "stdout",
     "output_type": "stream",
     "text": [
      "hell\n",
      "o ev\n",
      "eryo\n"
     ]
    }
   ],
   "source": [
    "#for read you can also pas sthe number of characters to be read in the form of an integer\n",
    "h=open('check.txt')\n",
    "output=h.read(4)             #this is how you read a text file (reading the whole text file)\n",
    "print(output)           \n",
    "#if you repeat the above set of codes it wont read the same char instead it will read the nexrt set of char\n",
    "output=h.read(4)            \n",
    "print(output) \n",
    "output=h.read(4)            \n",
    "print(output)   # space also a character"
   ]
  },
  {
   "cell_type": "code",
   "execution_count": 7,
   "metadata": {},
   "outputs": [
    {
     "name": "stdout",
     "output_type": "stream",
     "text": [
      "hell\n",
      "hello\n",
      "yone\n",
      "this is a text \n"
     ]
    }
   ],
   "source": [
    "#obj.seek: to change the position of the cursor\n",
    "#in the above example\n",
    "h=open('check.txt')\n",
    "output=h.read(4)\n",
    "print(output) \n",
    "h.seek(0) #here the position of the cursor is getting set back to 0th position\n",
    "#the position can be changed to any placve by passing the index as a parameter\n",
    "output=h.read(5)\n",
    "print(output)\n",
    "h.seek(10)\n",
    "output=h.read(20)\n",
    "print(output)"
   ]
  },
  {
   "cell_type": "markdown",
   "metadata": {},
   "source": [
    "WRITING"
   ]
  },
  {
   "cell_type": "code",
   "execution_count": 52,
   "metadata": {},
   "outputs": [],
   "source": [
    "obj=open('check2.txt','w') # creating a new txt file with writing mode specified\n",
    "obj.write(\"this line was added using obj.write(code)\\nthis is the newxt linr\\n\")     #wwriting a line into text filw\n",
    "obj.close()                                                 #the message will be reflected only when the file is closed"
   ]
  },
  {
   "cell_type": "code",
   "execution_count": 53,
   "metadata": {},
   "outputs": [],
   "source": [
    "ls=[\"this is the line passed using writelines()\\n\",\"this is 2nd line in list\"]\n",
    "obj=open('check2.txt','w')                           #the previous lines got erased as we have opened the file in write mode\n",
    "obj.writelines(ls)   \n",
    "obj.close()               "
   ]
  },
  {
   "cell_type": "code",
   "execution_count": 54,
   "metadata": {},
   "outputs": [],
   "source": [
    "#so we need to use append (a) mode to keep the existing data \n",
    "ls=[\"\\nthis is the line passed using writelines() APPEND MODE\\n\",\"this is 2nd line in list\"]\n",
    "obj=open('check2.txt','a')                           #the previous lines got erased as we have opened the file in write mode\n",
    "obj.writelines(ls)   \n",
    "obj.close()   "
   ]
  },
  {
   "cell_type": "code",
   "execution_count": null,
   "metadata": {},
   "outputs": [],
   "source": []
  }
 ],
 "metadata": {
  "interpreter": {
   "hash": "dbcb066db0bbecd300aad8f182239f7b46f1e89cd32ea6687e40138158280e49"
  },
  "kernelspec": {
   "display_name": "Python 3.9.12 64-bit (windows store)",
   "language": "python",
   "name": "python3"
  },
  "language_info": {
   "codemirror_mode": {
    "name": "ipython",
    "version": 3
   },
   "file_extension": ".py",
   "mimetype": "text/x-python",
   "name": "python",
   "nbconvert_exporter": "python",
   "pygments_lexer": "ipython3",
   "version": "3.10.4"
  },
  "orig_nbformat": 4
 },
 "nbformat": 4,
 "nbformat_minor": 2
}
